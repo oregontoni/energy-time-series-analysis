{
 "cells": [
  {
   "cell_type": "code",
   "execution_count": 1,
   "metadata": {},
   "outputs": [],
   "source": [
    "import pandas as pd\n",
    "import matplotlib.pyplot as plt\n",
    "import plotly.graph_objs as go\n",
    "import streamlit as st\n",
    "import joblib\n",
    "import statsmodels\n",
    "from PIL import Image, ImageOps\n"
   ]
  },
  {
   "cell_type": "code",
   "execution_count": 9,
   "metadata": {},
   "outputs": [],
   "source": [
    "year_to_forecast = 2024\n",
    "years_into_the_future = year_to_forecast - 2023"
   ]
  },
  {
   "cell_type": "code",
   "execution_count": 10,
   "metadata": {},
   "outputs": [],
   "source": [
    "#model calculations\n",
    "model = joblib.load('wind_generation_SARIMA_model.pkl')"
   ]
  },
  {
   "cell_type": "code",
   "execution_count": 15,
   "metadata": {},
   "outputs": [],
   "source": [
    "#calculate steps for model to forecast from 2023 onwards\n",
    "#X3_w_test starts May 2020\n",
    "steps_rem_2020 = 8\n",
    "steps_2021_to_2023 = 3*12\n",
    "steps_test = steps_rem_2020 + steps_2021_to_2023 + (12*(int(year_to_forecast)-2023))\n",
    "\n",
    "#generate forecast\n",
    "forecast = model.forecast(steps=steps_test)\n",
    "\n",
    "#calculate total generation for selected year (MWh)\n",
    "#data is in half-hourly records; divide by 2 to get MWh\n",
    "selected_yr_forecasted_wind_mwh = forecast.loc[str(year_to_forecast)].sum() / 2\n",
    "\n",
    "#calculate TWh\n",
    "selected_yr_forecasted_wind_twh = selected_yr_forecasted_wind_mwh/1000000\n",
    "\n",
    "#load .csv of non-wind generation in 2023\n",
    "non_wind_data = pd.read_csv('energy_gen_2023_excl_wind.csv')\n",
    "\n",
    "#add wind calculations to dataframe\n",
    "non_wind_data.loc[len(non_wind_data)] = ['WIND', selected_yr_forecasted_mwh]\n",
    "\n",
    "#calculate total energy generation\n",
    "total_generation = non_wind_data['Generation (MWh)'].sum()\n",
    "\n",
    "#calculate total energy opex\n",
    "total_cost = selected_yr_forecasted_mwh*67\n",
    "total_cost_bil = total_cost/1000000000"
   ]
  },
  {
   "cell_type": "code",
   "execution_count": 22,
   "metadata": {},
   "outputs": [
    {
     "data": {
      "text/plain": [
       "4.666692286666667"
      ]
     },
     "execution_count": 22,
     "metadata": {},
     "output_type": "execute_result"
    }
   ],
   "source": [
    "#UK gov March 2024 strike prices for onshore and offshore wind\n",
    "w_off_strike_price = 73 #per MWh\n",
    "w_on_strike_price = 64 #per MWh\n",
    "w_years_to_build = 0.5\n",
    "\n",
    "#avg build cost per 50-turbine farm\n",
    "cost_wind_farm = 617380000 #mil GBP per 50-turbine farm, 2.75MW ea\n",
    "\n",
    "#wind generation per farm = avg 50 turbines * 4380MWh/yr per turbine\n",
    "w_mwh_year = 219000 \n",
    "\n",
    "w_total_opex = (w_off_strike_price * selected_yr_forecasted_wind_mwh * 0.66) + (w_on_strike_price * selected_yr_forecasted_wind_mwh * 0.33)\n",
    "w_total_capex = (years_into_the_future/w_years_to_build)* cost_wind_farm\n",
    "w_total_farms = selected_yr_forecasted_wind_mwh/w_mwh_year\n",
    "w_total_cost = ((w_total_capex * w_total_farms) + w_total_opex)/1000000000\n",
    "\n",
    "\n",
    "w_total_farms = selected_yr_forecasted_wind_mwh/w_mwh_year\n",
    "w_total_capex = w_total_farms * cost_wind_farm\n",
    "w_total_opex = (w_off_strike_price * selected_yr_forecasted_wind_mwh * 0.66) + (w_on_strike_price * selected_yr_forecasted_wind_mwh * 0.33)\n",
    "w_total_cost = w_total_capex + w_total_opex"
   ]
  },
  {
   "cell_type": "code",
   "execution_count": null,
   "metadata": {},
   "outputs": [],
   "source": []
  }
 ],
 "metadata": {
  "kernelspec": {
   "display_name": "capstonetc",
   "language": "python",
   "name": "python3"
  },
  "language_info": {
   "codemirror_mode": {
    "name": "ipython",
    "version": 3
   },
   "file_extension": ".py",
   "mimetype": "text/x-python",
   "name": "python",
   "nbconvert_exporter": "python",
   "pygments_lexer": "ipython3",
   "version": "3.8.19"
  }
 },
 "nbformat": 4,
 "nbformat_minor": 2
}
